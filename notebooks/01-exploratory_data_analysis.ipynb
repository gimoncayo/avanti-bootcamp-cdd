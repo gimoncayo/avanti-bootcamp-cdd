{
 "cells": [
  {
   "cell_type": "markdown",
   "metadata": {},
   "source": [
    "# Análise exploratória de dados"
   ]
  },
  {
   "cell_type": "code",
   "execution_count": 43,
   "metadata": {
    "tags": []
   },
   "outputs": [],
   "source": [
    "from IPython.display import display, Markdown\n",
    "import numpy as np\n",
    "import pandas as pd\n",
    "import matplotlib.pyplot as plt\n",
    "import seaborn as sns\n",
    "\n",
    "colors = [\"#9467bd\", \"#057476\", \"#FF7A00\"]\n",
    "# sns.set_style(\"whitegrid\")\n",
    "sns.set_theme(style=\"ticks\")\n",
    "sns.set_palette(sns.color_palette(colors))"
   ]
  },
  {
   "cell_type": "markdown",
   "metadata": {},
   "source": [
    "## 1. Descrição dos dados"
   ]
  },
  {
   "cell_type": "code",
   "execution_count": 37,
   "metadata": {
    "tags": []
   },
   "outputs": [
    {
     "data": {
      "text/html": [
       "<div>\n",
       "<style scoped>\n",
       "    .dataframe tbody tr th:only-of-type {\n",
       "        vertical-align: middle;\n",
       "    }\n",
       "\n",
       "    .dataframe tbody tr th {\n",
       "        vertical-align: top;\n",
       "    }\n",
       "\n",
       "    .dataframe thead th {\n",
       "        text-align: right;\n",
       "    }\n",
       "</style>\n",
       "<table border=\"1\" class=\"dataframe\">\n",
       "  <thead>\n",
       "    <tr style=\"text-align: right;\">\n",
       "      <th></th>\n",
       "      <th>mpg</th>\n",
       "      <th>cylinders</th>\n",
       "      <th>displacement</th>\n",
       "      <th>horsepower</th>\n",
       "      <th>weight</th>\n",
       "      <th>acceleration</th>\n",
       "      <th>model_year</th>\n",
       "      <th>origin</th>\n",
       "      <th>name</th>\n",
       "    </tr>\n",
       "  </thead>\n",
       "  <tbody>\n",
       "    <tr>\n",
       "      <th>0</th>\n",
       "      <td>18.0</td>\n",
       "      <td>8</td>\n",
       "      <td>307.0</td>\n",
       "      <td>130.0</td>\n",
       "      <td>3504</td>\n",
       "      <td>12.0</td>\n",
       "      <td>70</td>\n",
       "      <td>usa</td>\n",
       "      <td>chevrolet chevelle malibu</td>\n",
       "    </tr>\n",
       "    <tr>\n",
       "      <th>1</th>\n",
       "      <td>15.0</td>\n",
       "      <td>8</td>\n",
       "      <td>350.0</td>\n",
       "      <td>165.0</td>\n",
       "      <td>3693</td>\n",
       "      <td>11.5</td>\n",
       "      <td>70</td>\n",
       "      <td>usa</td>\n",
       "      <td>buick skylark 320</td>\n",
       "    </tr>\n",
       "    <tr>\n",
       "      <th>2</th>\n",
       "      <td>18.0</td>\n",
       "      <td>8</td>\n",
       "      <td>318.0</td>\n",
       "      <td>150.0</td>\n",
       "      <td>3436</td>\n",
       "      <td>11.0</td>\n",
       "      <td>70</td>\n",
       "      <td>usa</td>\n",
       "      <td>plymouth satellite</td>\n",
       "    </tr>\n",
       "    <tr>\n",
       "      <th>3</th>\n",
       "      <td>16.0</td>\n",
       "      <td>8</td>\n",
       "      <td>304.0</td>\n",
       "      <td>150.0</td>\n",
       "      <td>3433</td>\n",
       "      <td>12.0</td>\n",
       "      <td>70</td>\n",
       "      <td>usa</td>\n",
       "      <td>amc rebel sst</td>\n",
       "    </tr>\n",
       "    <tr>\n",
       "      <th>4</th>\n",
       "      <td>17.0</td>\n",
       "      <td>8</td>\n",
       "      <td>302.0</td>\n",
       "      <td>140.0</td>\n",
       "      <td>3449</td>\n",
       "      <td>10.5</td>\n",
       "      <td>70</td>\n",
       "      <td>usa</td>\n",
       "      <td>ford torino</td>\n",
       "    </tr>\n",
       "  </tbody>\n",
       "</table>\n",
       "</div>"
      ],
      "text/plain": [
       "    mpg  cylinders  displacement  horsepower  weight  acceleration  \\\n",
       "0  18.0          8         307.0       130.0    3504          12.0   \n",
       "1  15.0          8         350.0       165.0    3693          11.5   \n",
       "2  18.0          8         318.0       150.0    3436          11.0   \n",
       "3  16.0          8         304.0       150.0    3433          12.0   \n",
       "4  17.0          8         302.0       140.0    3449          10.5   \n",
       "\n",
       "   model_year origin                       name  \n",
       "0          70    usa  chevrolet chevelle malibu  \n",
       "1          70    usa          buick skylark 320  \n",
       "2          70    usa         plymouth satellite  \n",
       "3          70    usa              amc rebel sst  \n",
       "4          70    usa                ford torino  "
      ]
     },
     "execution_count": 37,
     "metadata": {},
     "output_type": "execute_result"
    }
   ],
   "source": [
    "df = sns.load_dataset('mpg')\n",
    "df.to_csv('../data/raw/data.csv', index = False)\n",
    "df.head()"
   ]
  },
  {
   "cell_type": "markdown",
   "metadata": {
    "tags": []
   },
   "source": [
    "## 2. Descrição de dados"
   ]
  },
  {
   "cell_type": "markdown",
   "metadata": {},
   "source": [
    "O conjunto de dados `\"mpg\" (Milhas por galão)` contém informações sobre diferentes modelos de carros e seus atributos, sendo comumente usado para investigar a relação entre características dos veículos e sua eficiência de combustível. Essas variáveis oferecem uma visão abrangente das especificações dos carros e é frequentemente utilizado em análises estatísticas e de aprendizado de máquina."
   ]
  },
  {
   "cell_type": "markdown",
   "metadata": {
    "tags": []
   },
   "source": [
    "## 2.1 Dicionário de dados"
   ]
  },
  {
   "cell_type": "code",
   "execution_count": 38,
   "metadata": {
    "tags": []
   },
   "outputs": [
    {
     "data": {
      "text/html": [
       "<div>\n",
       "<style scoped>\n",
       "    .dataframe tbody tr th:only-of-type {\n",
       "        vertical-align: middle;\n",
       "    }\n",
       "\n",
       "    .dataframe tbody tr th {\n",
       "        vertical-align: top;\n",
       "    }\n",
       "\n",
       "    .dataframe thead th {\n",
       "        text-align: right;\n",
       "    }\n",
       "</style>\n",
       "<table border=\"1\" class=\"dataframe\">\n",
       "  <thead>\n",
       "    <tr style=\"text-align: right;\">\n",
       "      <th></th>\n",
       "      <th>variavel</th>\n",
       "      <th>descricao</th>\n",
       "      <th>tipo</th>\n",
       "      <th>subtipo</th>\n",
       "    </tr>\n",
       "  </thead>\n",
       "  <tbody>\n",
       "    <tr>\n",
       "      <th>0</th>\n",
       "      <td>mpg</td>\n",
       "      <td>Milhas por galão</td>\n",
       "      <td>quantitativa</td>\n",
       "      <td>continua</td>\n",
       "    </tr>\n",
       "    <tr>\n",
       "      <th>1</th>\n",
       "      <td>cylinders</td>\n",
       "      <td>Quantos cilidros tem no motor</td>\n",
       "      <td>quantitativa</td>\n",
       "      <td>discreta</td>\n",
       "    </tr>\n",
       "    <tr>\n",
       "      <th>2</th>\n",
       "      <td>displacement</td>\n",
       "      <td>Milhas rodadas</td>\n",
       "      <td>quantitativa</td>\n",
       "      <td>continua</td>\n",
       "    </tr>\n",
       "    <tr>\n",
       "      <th>3</th>\n",
       "      <td>horsepower</td>\n",
       "      <td>Quantos cavalos o motor tem</td>\n",
       "      <td>quantitativa</td>\n",
       "      <td>continua</td>\n",
       "    </tr>\n",
       "    <tr>\n",
       "      <th>4</th>\n",
       "      <td>weight</td>\n",
       "      <td>Quanto o carro pesa em libras</td>\n",
       "      <td>quantitativa</td>\n",
       "      <td>continua</td>\n",
       "    </tr>\n",
       "    <tr>\n",
       "      <th>5</th>\n",
       "      <td>acceleration</td>\n",
       "      <td>Quanto demora para fazer de 0 a 100 em segundos</td>\n",
       "      <td>quantitativa</td>\n",
       "      <td>continua</td>\n",
       "    </tr>\n",
       "    <tr>\n",
       "      <th>6</th>\n",
       "      <td>model_year</td>\n",
       "      <td>Ano que o carro foi fabricado</td>\n",
       "      <td>quantitativa</td>\n",
       "      <td>discreta</td>\n",
       "    </tr>\n",
       "    <tr>\n",
       "      <th>7</th>\n",
       "      <td>origin</td>\n",
       "      <td>Local de fabricação</td>\n",
       "      <td>qualitativa</td>\n",
       "      <td>nominal</td>\n",
       "    </tr>\n",
       "    <tr>\n",
       "      <th>8</th>\n",
       "      <td>name</td>\n",
       "      <td>Marca e nome do carro</td>\n",
       "      <td>qualitativa</td>\n",
       "      <td>nominal</td>\n",
       "    </tr>\n",
       "  </tbody>\n",
       "</table>\n",
       "</div>"
      ],
      "text/plain": [
       "       variavel                                        descricao  \\\n",
       "0           mpg                                 Milhas por galão   \n",
       "1     cylinders                    Quantos cilidros tem no motor   \n",
       "2  displacement                                   Milhas rodadas   \n",
       "3    horsepower                      Quantos cavalos o motor tem   \n",
       "4        weight                    Quanto o carro pesa em libras   \n",
       "5  acceleration  Quanto demora para fazer de 0 a 100 em segundos   \n",
       "6    model_year                    Ano que o carro foi fabricado   \n",
       "7        origin                              Local de fabricação   \n",
       "8          name                            Marca e nome do carro   \n",
       "\n",
       "           tipo   subtipo  \n",
       "0  quantitativa  continua  \n",
       "1  quantitativa  discreta  \n",
       "2  quantitativa  continua  \n",
       "3  quantitativa  continua  \n",
       "4  quantitativa  continua  \n",
       "5  quantitativa  continua  \n",
       "6  quantitativa  discreta  \n",
       "7   qualitativa   nominal  \n",
       "8   qualitativa   nominal  "
      ]
     },
     "execution_count": 38,
     "metadata": {},
     "output_type": "execute_result"
    }
   ],
   "source": [
    "dicionario = pd.DataFrame([\n",
    "    {\n",
    "        \"variavel\": \"mpg\",\n",
    "        \"descricao\": \"Milhas por galão\",\n",
    "        \"tipo\":\"quantitativa\",\n",
    "        \"subtipo\":\"continua\"\n",
    "    } , {\n",
    "        \"variavel\": \"cylinders\",\n",
    "        \"descricao\": \"Quantos cilidros tem no motor\",\n",
    "        \"tipo\":\"quantitativa\",\n",
    "        \"subtipo\":\"discreta\"\n",
    "    } , {\n",
    "        \"variavel\": \"displacement\",\n",
    "        \"descricao\": \"Milhas rodadas\",\n",
    "        \"tipo\":\"quantitativa\",\n",
    "        \"subtipo\":\"continua\"\n",
    "    } , {\n",
    "        \"variavel\": \"horsepower\",\n",
    "        \"descricao\": \"Quantos cavalos o motor tem\",\n",
    "        \"tipo\":\"quantitativa\",\n",
    "        \"subtipo\":\"continua\"\n",
    "    } , {\n",
    "        \"variavel\": \"weight\",\n",
    "        \"descricao\": \"Quanto o carro pesa em libras\",\n",
    "        \"tipo\":\"quantitativa\",\n",
    "        \"subtipo\":\"continua\"\n",
    "    } , {\n",
    "        \"variavel\": \"acceleration\",\n",
    "        \"descricao\": \"Quanto demora para fazer de 0 a 100 em segundos\",\n",
    "        \"tipo\":\"quantitativa\",\n",
    "        \"subtipo\":\"continua\"\n",
    "    } , {\n",
    "        \"variavel\": \"model_year\",\n",
    "        \"descricao\": \"Ano que o carro foi fabricado\",\n",
    "        \"tipo\":\"quantitativa\",\n",
    "        \"subtipo\":\"discreta\"\n",
    "    } , {\n",
    "        \"variavel\": \"origin\",\n",
    "        \"descricao\": \"Local de fabricação\",\n",
    "        \"tipo\":\"qualitativa\",\n",
    "        \"subtipo\":\"nominal\"\n",
    "    } , {\n",
    "        \"variavel\": \"name\",\n",
    "        \"descricao\": \"Marca e nome do carro\",\n",
    "        \"tipo\":\"qualitativa\",\n",
    "        \"subtipo\":\"nominal\"\n",
    "    }\n",
    "])\n",
    "dicionario.to_csv('../data/external/dictionary.csv', index=False)\n",
    "dicionario"
   ]
  },
  {
   "cell_type": "markdown",
   "metadata": {},
   "source": [
    "---\n",
    "* São 9 variáveis, com 2 qualitativas nominais, 5 quantitativas contínuas e 2 quantitativas discretas.\n",
    "---"
   ]
  },
  {
   "cell_type": "markdown",
   "metadata": {},
   "source": [
    "## 3. Perguntas de partida e hipóteses"
   ]
  },
  {
   "cell_type": "markdown",
   "metadata": {},
   "source": [
    "* Existem dados faltantes, se sim quantos e em quais variáveis?\n",
    "* Qual a distribuição dos dados (variável por variável)?\n",
    "* A eficiência de combustível está correlacionada com a potência do motor nos carros?\n",
    "* Existe uma relação significativa entre o número de cilindros e a potência do motor?\n",
    "* Carros mais pesados tendem a ter uma aceleração mais lenta?"
   ]
  },
  {
   "cell_type": "markdown",
   "metadata": {},
   "source": [
    "### Existem dados faltantes, se sim quantos e em quais variáveis?"
   ]
  },
  {
   "cell_type": "code",
   "execution_count": 39,
   "metadata": {
    "tags": []
   },
   "outputs": [
    {
     "data": {
      "text/plain": [
       "horsepower    6\n",
       "dtype: int64"
      ]
     },
     "metadata": {},
     "output_type": "display_data"
    },
    {
     "data": {
      "text/markdown": [
       "---\n",
       "A partir dessa informação sabemos que as variáveis `['horsepower']`contém valores faltantes. Além disso sabemos que temos `6` linhas com valores faltantes.\n",
       " As próximas análises aqui serão realizadas sem considerar os dados faltantes\n",
       "\n",
       " ---"
      ],
      "text/plain": [
       "<IPython.core.display.Markdown object>"
      ]
     },
     "metadata": {},
     "output_type": "display_data"
    }
   ],
   "source": [
    "# colunas (variáveis) contendo valores valtantes\n",
    "number_of_na_by_column = df.isnull().sum().loc[lambda x: x > 0]\n",
    "number_of_na_rows = df.isnull().any(axis=1).sum()\n",
    "\n",
    "display(number_of_na_by_column)\n",
    "display(Markdown(\n",
    "    \"---\\n\"\n",
    "    f\"A partir dessa informação sabemos que as variáveis `{number_of_na_by_column.axes[0].to_list()}`\"\n",
    "    f\"contém valores faltantes. Além disso sabemos que temos `{number_of_na_rows}` linhas com valores faltantes.\"\n",
    "    \"\\n As próximas análises aqui serão realizadas sem considerar os dados faltantes\"\n",
    "    \"\\n\\n ---\"\n",
    "))\n",
    "\n",
    "df.dropna(inplace=True)"
   ]
  },
  {
   "cell_type": "markdown",
   "metadata": {
    "tags": []
   },
   "source": [
    "### Qual a distribuição dos dados?"
   ]
  },
  {
   "cell_type": "code",
   "execution_count": 28,
   "metadata": {
    "tags": []
   },
   "outputs": [
    {
     "data": {
      "text/html": [
       "<div>\n",
       "<style scoped>\n",
       "    .dataframe tbody tr th:only-of-type {\n",
       "        vertical-align: middle;\n",
       "    }\n",
       "\n",
       "    .dataframe tbody tr th {\n",
       "        vertical-align: top;\n",
       "    }\n",
       "\n",
       "    .dataframe thead th {\n",
       "        text-align: right;\n",
       "    }\n",
       "</style>\n",
       "<table border=\"1\" class=\"dataframe\">\n",
       "  <thead>\n",
       "    <tr style=\"text-align: right;\">\n",
       "      <th></th>\n",
       "      <th>mpg</th>\n",
       "      <th>cylinders</th>\n",
       "      <th>displacement</th>\n",
       "      <th>horsepower</th>\n",
       "      <th>weight</th>\n",
       "      <th>acceleration</th>\n",
       "      <th>model_year</th>\n",
       "      <th>origin</th>\n",
       "      <th>name</th>\n",
       "    </tr>\n",
       "  </thead>\n",
       "  <tbody>\n",
       "    <tr>\n",
       "      <th>count</th>\n",
       "      <td>392.000000</td>\n",
       "      <td>392.000000</td>\n",
       "      <td>392.000000</td>\n",
       "      <td>392.000000</td>\n",
       "      <td>392.000000</td>\n",
       "      <td>392.000000</td>\n",
       "      <td>392.000000</td>\n",
       "      <td>392</td>\n",
       "      <td>392</td>\n",
       "    </tr>\n",
       "    <tr>\n",
       "      <th>unique</th>\n",
       "      <td>NaN</td>\n",
       "      <td>NaN</td>\n",
       "      <td>NaN</td>\n",
       "      <td>NaN</td>\n",
       "      <td>NaN</td>\n",
       "      <td>NaN</td>\n",
       "      <td>NaN</td>\n",
       "      <td>3</td>\n",
       "      <td>301</td>\n",
       "    </tr>\n",
       "    <tr>\n",
       "      <th>top</th>\n",
       "      <td>NaN</td>\n",
       "      <td>NaN</td>\n",
       "      <td>NaN</td>\n",
       "      <td>NaN</td>\n",
       "      <td>NaN</td>\n",
       "      <td>NaN</td>\n",
       "      <td>NaN</td>\n",
       "      <td>usa</td>\n",
       "      <td>ford pinto</td>\n",
       "    </tr>\n",
       "    <tr>\n",
       "      <th>freq</th>\n",
       "      <td>NaN</td>\n",
       "      <td>NaN</td>\n",
       "      <td>NaN</td>\n",
       "      <td>NaN</td>\n",
       "      <td>NaN</td>\n",
       "      <td>NaN</td>\n",
       "      <td>NaN</td>\n",
       "      <td>245</td>\n",
       "      <td>5</td>\n",
       "    </tr>\n",
       "    <tr>\n",
       "      <th>mean</th>\n",
       "      <td>23.445918</td>\n",
       "      <td>5.471939</td>\n",
       "      <td>194.411990</td>\n",
       "      <td>104.469388</td>\n",
       "      <td>2977.584184</td>\n",
       "      <td>15.541327</td>\n",
       "      <td>75.979592</td>\n",
       "      <td>NaN</td>\n",
       "      <td>NaN</td>\n",
       "    </tr>\n",
       "    <tr>\n",
       "      <th>std</th>\n",
       "      <td>7.805007</td>\n",
       "      <td>1.705783</td>\n",
       "      <td>104.644004</td>\n",
       "      <td>38.491160</td>\n",
       "      <td>849.402560</td>\n",
       "      <td>2.758864</td>\n",
       "      <td>3.683737</td>\n",
       "      <td>NaN</td>\n",
       "      <td>NaN</td>\n",
       "    </tr>\n",
       "    <tr>\n",
       "      <th>min</th>\n",
       "      <td>9.000000</td>\n",
       "      <td>3.000000</td>\n",
       "      <td>68.000000</td>\n",
       "      <td>46.000000</td>\n",
       "      <td>1613.000000</td>\n",
       "      <td>8.000000</td>\n",
       "      <td>70.000000</td>\n",
       "      <td>NaN</td>\n",
       "      <td>NaN</td>\n",
       "    </tr>\n",
       "    <tr>\n",
       "      <th>25%</th>\n",
       "      <td>17.000000</td>\n",
       "      <td>4.000000</td>\n",
       "      <td>105.000000</td>\n",
       "      <td>75.000000</td>\n",
       "      <td>2225.250000</td>\n",
       "      <td>13.775000</td>\n",
       "      <td>73.000000</td>\n",
       "      <td>NaN</td>\n",
       "      <td>NaN</td>\n",
       "    </tr>\n",
       "    <tr>\n",
       "      <th>50%</th>\n",
       "      <td>22.750000</td>\n",
       "      <td>4.000000</td>\n",
       "      <td>151.000000</td>\n",
       "      <td>93.500000</td>\n",
       "      <td>2803.500000</td>\n",
       "      <td>15.500000</td>\n",
       "      <td>76.000000</td>\n",
       "      <td>NaN</td>\n",
       "      <td>NaN</td>\n",
       "    </tr>\n",
       "    <tr>\n",
       "      <th>75%</th>\n",
       "      <td>29.000000</td>\n",
       "      <td>8.000000</td>\n",
       "      <td>275.750000</td>\n",
       "      <td>126.000000</td>\n",
       "      <td>3614.750000</td>\n",
       "      <td>17.025000</td>\n",
       "      <td>79.000000</td>\n",
       "      <td>NaN</td>\n",
       "      <td>NaN</td>\n",
       "    </tr>\n",
       "    <tr>\n",
       "      <th>max</th>\n",
       "      <td>46.600000</td>\n",
       "      <td>8.000000</td>\n",
       "      <td>455.000000</td>\n",
       "      <td>230.000000</td>\n",
       "      <td>5140.000000</td>\n",
       "      <td>24.800000</td>\n",
       "      <td>82.000000</td>\n",
       "      <td>NaN</td>\n",
       "      <td>NaN</td>\n",
       "    </tr>\n",
       "  </tbody>\n",
       "</table>\n",
       "</div>"
      ],
      "text/plain": [
       "               mpg   cylinders  displacement  horsepower       weight  \\\n",
       "count   392.000000  392.000000    392.000000  392.000000   392.000000   \n",
       "unique         NaN         NaN           NaN         NaN          NaN   \n",
       "top            NaN         NaN           NaN         NaN          NaN   \n",
       "freq           NaN         NaN           NaN         NaN          NaN   \n",
       "mean     23.445918    5.471939    194.411990  104.469388  2977.584184   \n",
       "std       7.805007    1.705783    104.644004   38.491160   849.402560   \n",
       "min       9.000000    3.000000     68.000000   46.000000  1613.000000   \n",
       "25%      17.000000    4.000000    105.000000   75.000000  2225.250000   \n",
       "50%      22.750000    4.000000    151.000000   93.500000  2803.500000   \n",
       "75%      29.000000    8.000000    275.750000  126.000000  3614.750000   \n",
       "max      46.600000    8.000000    455.000000  230.000000  5140.000000   \n",
       "\n",
       "        acceleration  model_year origin        name  \n",
       "count     392.000000  392.000000    392         392  \n",
       "unique           NaN         NaN      3         301  \n",
       "top              NaN         NaN    usa  ford pinto  \n",
       "freq             NaN         NaN    245           5  \n",
       "mean       15.541327   75.979592    NaN         NaN  \n",
       "std         2.758864    3.683737    NaN         NaN  \n",
       "min         8.000000   70.000000    NaN         NaN  \n",
       "25%        13.775000   73.000000    NaN         NaN  \n",
       "50%        15.500000   76.000000    NaN         NaN  \n",
       "75%        17.025000   79.000000    NaN         NaN  \n",
       "max        24.800000   82.000000    NaN         NaN  "
      ]
     },
     "execution_count": 28,
     "metadata": {},
     "output_type": "execute_result"
    }
   ],
   "source": [
    "df.describe(include='all')"
   ]
  },
  {
   "cell_type": "markdown",
   "metadata": {},
   "source": [
    "---\n",
    "* Existem 3 possiveis países de origem.\n",
    "* A origem mais frequente é USA.\n",
    "* O carro mais comum é Ford Pinto, aparecendo 5 vezes.\n",
    "* A média de cilindros é 4, com mínimo de 3 e máximo de 8.\n",
    "* A média de milhas rodadas é 151mi, com mínimo 68mi e máximo de 455mi.\n",
    "* O peso dos carros varia de 1613lb a 5140lb, com média de 2803lb.\n",
    "---"
   ]
  },
  {
   "cell_type": "markdown",
   "metadata": {},
   "source": [
    "##### Distribuição das variáveis qualitativas"
   ]
  },
  {
   "cell_type": "code",
   "execution_count": 84,
   "metadata": {
    "tags": []
   },
   "outputs": [
    {
     "data": {
      "image/png": "[encoded data removed]",
      "text/plain": [
       "<Figure size 600x400 with 1 Axes>"
      ]
     },
     "metadata": {},
     "output_type": "display_data"
    }
   ],
   "source": [
    "fig, ax = plt.subplots(figsize=(6, 4))\n",
    "fig.suptitle('Distribuição da variável', fontweight='bold')\n",
    "\n",
    "# Plotar a variável \"origin\" com contador de valor\n",
    "ax = sns.countplot(\n",
    "    data=df,\n",
    "    x=\"origin\",\n",
    "    color=colors[0],\n",
    "        alpha=0.9,\n",
    "        order=order\n",
    ")\n",
    "ax.set(frame_on=False)\n",
    "ax.axhline(0, color=\"k\", clip_on=False)\n",
    "ax.set_title('\"origin\"')\n",
    "plt.xlabel('Local de fabricação')\n",
    "ax.set_ylabel('Quantidade')\n",
    "ax.grid(axis='y', linestyle='-')\n",
    "\n",
    "# Adicionar contador de valor em cada barra\n",
    "for p in ax.patches:\n",
    "    ax.annotate(f'{p.get_height()}',\n",
    "                (p.get_x() + p.get_width() / 2., p.get_height()),\n",
    "                ha='center', va='center', fontsize=10, color='black', xytext=(0, 5),\n",
    "                textcoords='offset points')\n",
    "\n",
    "plt.show()"
   ]
  },
  {
   "cell_type": "markdown",
   "metadata": {},
   "source": [
    "---\n",
    "* A maior parte dos carros foram fabricados no EUA e a menor parte na Europa.\n",
    "---"
   ]
  },
  {
   "cell_type": "markdown",
   "metadata": {
    "tags": []
   },
   "source": [
    "##### Distribuição das variáveis quantitativas"
   ]
  },
  {
   "cell_type": "code",
   "execution_count": 86,
   "metadata": {
    "tags": []
   },
   "outputs": [
    {
     "data": {
      "image/png": "[encoded data removed]",
      "text/plain": [
       "<Figure size 1800x1000 with 6 Axes>"
      ]
     },
     "metadata": {},
     "output_type": "display_data"
    }
   ],
   "source": [
    "variaveis_plot = ['mpg', 'displacement', 'horsepower', 'weight', 'acceleration', 'cylinders']\n",
    "variaveis_quantitativas = dicionario.query(\"tipo == 'quantitativa' and variavel in @variaveis_plot\")\n",
    "\n",
    "# Criando os gráficos\n",
    "fig, axes = plt.subplots(2, 3, figsize=(18, 10))\n",
    "plt.tight_layout(pad=4, w_pad=10, h_pad=5)\n",
    "fig.suptitle('Distribuição de variáveis quantitativas', fontweight='bold')\n",
    "\n",
    "for i, variavel in enumerate(variaveis_quantitativas['variavel']):\n",
    "    row = i // 3\n",
    "    col = i % 3\n",
    "    ax = sns.histplot(\n",
    "        data=df,\n",
    "        x=variavel,\n",
    "        ax=axes[row, col],\n",
    "        color=colors[0],\n",
    "        alpha=0.9,\n",
    "    )\n",
    "    ax.set(frame_on=False)\n",
    "    ax.axhline(0, color=\"k\", clip_on=False)\n",
    "    ax.set_title(f\"Distribuição da variável '{variavel}'\")\n",
    "    plt.xlabel(variavel)\n",
    "    ax.set_ylabel('Quantidade')\n",
    "    ax.grid(axis='y', linestyle='-')\n",
    "\n",
    "plt.show()"
   ]
  },
  {
   "cell_type": "markdown",
   "metadata": {},
   "source": [
    "---\n",
    "A partir das visualizações acima podemos dizer que:\n",
    "\n",
    "* A distribuição da eficiência de combustível (`mpg`) mostra que a maioria dos carros tem um consumo de combustível entre 10 e 20 milhas por galão.\n",
    "* A maioria dos carros possui 4 ou 8 cilindros (`cylinders`).\n",
    "* Há um pico significativo em torno de 100 e outro em torno de 250 nas milhas percorridas (`displacement`) dos carros.\n",
    "* A maioria dos carros tem potência entre 50 e 100 cavalos (`horsepower`).\n",
    "* A distribuição de peso (`weight`) dos carros tende a apresentar massa entre 1500 a 2500lb.\n",
    "* Existe um pico notável na faixa de 12,5 a 17,5 segundos para a aceleração (`acceleration`) dos carros.\n",
    "---"
   ]
  },
  {
   "cell_type": "markdown",
   "metadata": {
    "tags": []
   },
   "source": [
    "### A eficiência de combustível está correlacionada com a potência do motor nos carros?"
   ]
  },
  {
   "cell_type": "markdown",
   "metadata": {},
   "source": [
    "### Existe uma relação significativa entre o número de cilindros e a potência do motor?"
   ]
  },
  {
   "cell_type": "markdown",
   "metadata": {},
   "source": [
    "### Carros mais pesados tendem a ter uma aceleração mais lenta?"
   ]
  },
  {
   "cell_type": "markdown",
   "metadata": {},
   "source": [
    "## 3. Insights"
   ]
  },
  {
   "cell_type": "code",
   "execution_count": null,
   "metadata": {},
   "outputs": [],
   "source": []
  }
 ],
 "metadata": {
  "kernelspec": {
   "display_name": "Python 3 (ipykernel)",
   "language": "python",
   "name": "python3"
  },
  "language_info": {
   "codemirror_mode": {
    "name": "ipython",
    "version": 3
   },
   "file_extension": ".py",
   "mimetype": "text/x-python",
   "name": "python",
   "nbconvert_exporter": "python",
   "pygments_lexer": "ipython3",
   "version": "3.10.12"
  },
  "vscode": {
   "interpreter": {
    "hash": "eb3c3305d8b111f0102f4f519c5f17abd113fe74db6752c355e994a9008815ef"
   }
  }
 },
 "nbformat": 4,
 "nbformat_minor": 4
}
