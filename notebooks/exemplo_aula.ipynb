{
 "cells": [
  {
   "cell_type": "code",
   "execution_count": 11,
   "id": "9ab87172-5ffa-4c7a-849f-84de5f3e593b",
   "metadata": {
    "tags": []
   },
   "outputs": [],
   "source": [
    "import pandas as pd\n",
    "import seaborn as sns"
   ]
  },
  {
   "cell_type": "code",
   "execution_count": 12,
   "id": "0eee46f3-300f-4543-b678-f1d3f6bd9bfd",
   "metadata": {
    "tags": []
   },
   "outputs": [],
   "source": [
    "df = sns.load_dataset('penguins')\n",
    "df.to_csv('../data/raw/data.csv', index = False)"
   ]
  },
  {
   "cell_type": "code",
   "execution_count": 13,
   "id": "469a1c91-e7cc-455a-88f3-2b02024c691a",
   "metadata": {
    "tags": []
   },
   "outputs": [
    {
     "data": {
      "text/plain": [
       "Index(['species', 'island', 'bill_length_mm', 'bill_depth_mm',\n",
       "       'flipper_length_mm', 'body_mass_g', 'sex'],\n",
       "      dtype='object')"
      ]
     },
     "execution_count": 13,
     "metadata": {},
     "output_type": "execute_result"
    }
   ],
   "source": [
    "df.columns"
   ]
  },
  {
   "cell_type": "code",
   "execution_count": 16,
   "id": "002f9897-a564-4f5b-a057-549d6dd903cf",
   "metadata": {
    "tags": []
   },
   "outputs": [
    {
     "data": {
      "text/html": [
       "<div>\n",
       "<style scoped>\n",
       "    .dataframe tbody tr th:only-of-type {\n",
       "        vertical-align: middle;\n",
       "    }\n",
       "\n",
       "    .dataframe tbody tr th {\n",
       "        vertical-align: top;\n",
       "    }\n",
       "\n",
       "    .dataframe thead th {\n",
       "        text-align: right;\n",
       "    }\n",
       "</style>\n",
       "<table border=\"1\" class=\"dataframe\">\n",
       "  <thead>\n",
       "    <tr style=\"text-align: right;\">\n",
       "      <th></th>\n",
       "      <th>variavel</th>\n",
       "      <th>descricao</th>\n",
       "      <th>tipo</th>\n",
       "      <th>subtipo</th>\n",
       "    </tr>\n",
       "  </thead>\n",
       "  <tbody>\n",
       "    <tr>\n",
       "      <th>0</th>\n",
       "      <td>especie</td>\n",
       "      <td>Nome da espécie</td>\n",
       "      <td>qualitativa</td>\n",
       "      <td>nominal</td>\n",
       "    </tr>\n",
       "    <tr>\n",
       "      <th>1</th>\n",
       "      <td>ilha</td>\n",
       "      <td>Local da medição</td>\n",
       "      <td>qualitativa</td>\n",
       "      <td>nominal</td>\n",
       "    </tr>\n",
       "    <tr>\n",
       "      <th>2</th>\n",
       "      <td>comp_bico_mm</td>\n",
       "      <td>Comprimento de bico</td>\n",
       "      <td>quantitativa</td>\n",
       "      <td>continua</td>\n",
       "    </tr>\n",
       "    <tr>\n",
       "      <th>3</th>\n",
       "      <td>altura_bico_mm</td>\n",
       "      <td>Altura do bico</td>\n",
       "      <td>quantitativa</td>\n",
       "      <td>continua</td>\n",
       "    </tr>\n",
       "    <tr>\n",
       "      <th>4</th>\n",
       "      <td>comp_nada_mm</td>\n",
       "      <td>Comprimento de nadadeira</td>\n",
       "      <td>quantitativa</td>\n",
       "      <td>continua</td>\n",
       "    </tr>\n",
       "    <tr>\n",
       "      <th>5</th>\n",
       "      <td>peso_g</td>\n",
       "      <td>Massa corporal (peso)</td>\n",
       "      <td>quantitativa</td>\n",
       "      <td>continua</td>\n",
       "    </tr>\n",
       "    <tr>\n",
       "      <th>6</th>\n",
       "      <td>sexo</td>\n",
       "      <td>Sexo dos indivíduos</td>\n",
       "      <td>qualitativa</td>\n",
       "      <td>nominal</td>\n",
       "    </tr>\n",
       "  </tbody>\n",
       "</table>\n",
       "</div>"
      ],
      "text/plain": [
       "         variavel                 descricao          tipo   subtipo\n",
       "0         especie           Nome da espécie   qualitativa   nominal\n",
       "1            ilha          Local da medição   qualitativa   nominal\n",
       "2    comp_bico_mm       Comprimento de bico  quantitativa  continua\n",
       "3  altura_bico_mm            Altura do bico  quantitativa  continua\n",
       "4    comp_nada_mm  Comprimento de nadadeira  quantitativa  continua\n",
       "5          peso_g     Massa corporal (peso)  quantitativa  continua\n",
       "6            sexo       Sexo dos indivíduos   qualitativa   nominal"
      ]
     },
     "execution_count": 16,
     "metadata": {},
     "output_type": "execute_result"
    }
   ],
   "source": [
    "dicionario = pd.DataFrame([\n",
    "    {\n",
    "        \"variavel\": \"especie\",\n",
    "        \"descricao\": \"Nome da espécie\",\n",
    "        \"tipo\":\"qualitativa\",\n",
    "        \"subtipo\":\"nominal\"\n",
    "    },{\n",
    "        \"variavel\": \"ilha\",\n",
    "        \"descricao\": \"Local da medição\",\n",
    "        \"tipo\":\"qualitativa\",\n",
    "        \"subtipo\":\"nominal\"\n",
    "    },{\n",
    "        \"variavel\": \"comp_bico_mm\",\n",
    "        \"descricao\": \"Comprimento de bico\",\n",
    "        \"tipo\":\"quantitativa\",\n",
    "        \"subtipo\":\"continua\"\n",
    "    },{\n",
    "        \"variavel\": \"altura_bico_mm\",\n",
    "        \"descricao\": \"Altura do bico\",\n",
    "        \"tipo\":\"quantitativa\",\n",
    "        \"subtipo\":\"continua\"\n",
    "    },{\n",
    "        \"variavel\": \"comp_nada_mm\",\n",
    "        \"descricao\": \"Comprimento de nadadeira\",\n",
    "        \"tipo\":\"quantitativa\",\n",
    "        \"subtipo\":\"continua\"\n",
    "    },{\n",
    "        \"variavel\": \"peso_g\",\n",
    "        \"descricao\": \"Massa corporal (peso)\",\n",
    "        \"tipo\":\"quantitativa\",\n",
    "        \"subtipo\":\"continua\"\n",
    "    },{\n",
    "        \"variavel\": \"sexo\",\n",
    "        \"descricao\": \"Sexo dos indivíduos\",\n",
    "        \"tipo\":\"qualitativa\",\n",
    "        \"subtipo\":\"nominal\"\n",
    "    }\n",
    "])\n",
    "\n",
    "dicionario"
   ]
  },
  {
   "cell_type": "code",
   "execution_count": 15,
   "id": "a87a590c-ba08-436e-a725-9cfbd5a06551",
   "metadata": {
    "tags": []
   },
   "outputs": [],
   "source": [
    "dicionario.to_csv('../data/external/dictionary.csv', index=False)"
   ]
  }
 ],
 "metadata": {
  "kernelspec": {
   "display_name": "Python 3 (ipykernel)",
   "language": "python",
   "name": "python3"
  },
  "language_info": {
   "codemirror_mode": {
    "name": "ipython",
    "version": 3
   },
   "file_extension": ".py",
   "mimetype": "text/x-python",
   "name": "python",
   "nbconvert_exporter": "python",
   "pygments_lexer": "ipython3",
   "version": "3.10.12"
  }
 },
 "nbformat": 4,
 "nbformat_minor": 5
}
